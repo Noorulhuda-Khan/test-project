{
  "nbformat": 4,
  "nbformat_minor": 0,
  "metadata": {
    "colab": {
      "provenance": [],
      "authorship_tag": "ABX9TyOxnFLcw38UnXcyRbjB3r3j",
      "include_colab_link": true
    },
    "kernelspec": {
      "name": "python3",
      "display_name": "Python 3"
    },
    "language_info": {
      "name": "python"
    }
  },
  "cells": [
    {
      "cell_type": "markdown",
      "metadata": {
        "id": "view-in-github",
        "colab_type": "text"
      },
      "source": [
        "<a href=\"https://colab.research.google.com/github/Noorulhuda-Khan/test-project/blob/main/HelloWorld.ipynb\" target=\"_parent\"><img src=\"https://colab.research.google.com/assets/colab-badge.svg\" alt=\"Open In Colab\"/></a>"
      ]
    },
    {
      "cell_type": "code",
      "execution_count": 3,
      "metadata": {
        "colab": {
          "base_uri": "https://localhost:8080/"
        },
        "id": "2M_dA5sKCKNn",
        "outputId": "76a5d37a-5a2a-4288-d0ee-da46ea0d53bf"
      },
      "outputs": [
        {
          "output_type": "stream",
          "name": "stdout",
          "text": [
            "Hello, world!\n"
          ]
        }
      ],
      "source": [
        "# prompt: write a python hello world program\n",
        "\n",
        "print(\"Hello, world!\")"
      ]
    },
    {
      "cell_type": "code",
      "source": [
        "# prompt: my name is Noor Ul Huda. write a code that says hello world to me\n",
        "\n",
        "print(\"Hello, Noor Ul Huda!\")"
      ],
      "metadata": {
        "id": "Fo_DVf_SDSt0"
      },
      "execution_count": null,
      "outputs": []
    },
    {
      "cell_type": "code",
      "source": [
        "# prompt: print hello world to me\n",
        "\n",
        "print(\"Hello, world!\")\n",
        "\n",
        "print(\"Hello, Noor Ul Huda!\")"
      ],
      "metadata": {
        "id": "GRPBK8SCRgk2"
      },
      "execution_count": null,
      "outputs": []
    },
    {
      "cell_type": "code",
      "source": [
        "# prompt: i love my mom, say hello to my mom Bushra...my mom.....write hello My\n",
        "# mom Bushra\n",
        "\n",
        "print(\"Hello, My mom Bushra!\")"
      ],
      "metadata": {
        "id": "WUX_WhazRs8V"
      },
      "execution_count": null,
      "outputs": []
    },
    {
      "cell_type": "code",
      "source": [
        "# prompt: write a code for commented hello world....i mentioned just hello world, no other programs\n",
        "\n",
        "# print(\"Hello, world!\")\n",
        "\n",
        "# print(\"Hello, Noor Ul Huda!\")\n",
        "\n",
        "# print(\"Hello, world!\")\n",
        "\n",
        "# print(\"Hello, Noor Ul Huda!\")\n",
        "\n",
        "# print(\"Hello, My mom Bushra!\")"
      ],
      "metadata": {
        "id": "xEaUr9w5T1IH"
      },
      "execution_count": null,
      "outputs": []
    },
    {
      "cell_type": "code",
      "source": [
        "# prompt: print(\"hello world)\n",
        "# plz correct the above code\n",
        "\n",
        "print(\"hello world\")"
      ],
      "metadata": {
        "colab": {
          "base_uri": "https://localhost:8080/"
        },
        "id": "iZ1LP5NBUnTu",
        "outputId": "888db258-4c7d-4824-a69d-2c59c4a5cedc"
      },
      "execution_count": 5,
      "outputs": [
        {
          "output_type": "stream",
          "name": "stdout",
          "text": [
            "hello world\n"
          ]
        }
      ]
    },
    {
      "cell_type": "code",
      "source": [
        "# prompt: write a code that display my favorite colors\n",
        "\n",
        "favorite_colors = [\"blue\", \"green\", \"purple\"]\n",
        "\n",
        "print(\"My favorite colors are:\")\n",
        "for color in favorite_colors:\n",
        "  print(color)"
      ],
      "metadata": {
        "colab": {
          "base_uri": "https://localhost:8080/"
        },
        "id": "fhXhkAzsU02x",
        "outputId": "ac738f50-60ef-4b7b-f104-9ba94e42d16f"
      },
      "execution_count": 10,
      "outputs": [
        {
          "output_type": "stream",
          "name": "stdout",
          "text": [
            "My favorite colors are:\n",
            "blue\n",
            "green\n",
            "purple\n"
          ]
        }
      ]
    },
    {
      "source": [
        "# prompt: write a code that display my favorite colors\n",
        "\n",
        "favorite_colors = [\"blue\", \"green\", \"purple\"]\n",
        "\n",
        "print(\"My favorite colors are:\")\n",
        "for color in favorite_colors:\n",
        "    print(color) # Indented the line to be part of the for loop"
      ],
      "cell_type": "code",
      "metadata": {
        "id": "-sWoh1vATlbT"
      },
      "execution_count": null,
      "outputs": []
    },
    {
      "cell_type": "code",
      "source": [
        "write a code that displays green as my favorite color\n"
      ],
      "metadata": {
        "id": "T20R7x-VToMu"
      },
      "execution_count": null,
      "outputs": []
    },
    {
      "cell_type": "code",
      "source": [
        "# prompt: write a code that displays green as my favorite color\n",
        "\n",
        "favorite_color = \"green\"\n",
        "print(\"My favorite color is:\", favorite_color)"
      ],
      "metadata": {
        "id": "R9hUc3xZTvXP"
      },
      "execution_count": null,
      "outputs": []
    },
    {
      "cell_type": "code",
      "source": [
        "# prompt: write a code that displays your favorite color, i am talking about yours, not mine\n",
        "\n",
        "favorite_color = \"blue\"  # My favorite color is blue\n",
        "print(\"My favorite color is:\", favorite_color)"
      ],
      "metadata": {
        "id": "sb-4UA7pUa9f"
      },
      "execution_count": null,
      "outputs": []
    }
  ]
}